{
 "cells": [
  {
   "cell_type": "code",
   "execution_count": 1,
   "id": "89db2a18-5564-47ba-8e36-df0fd0da4c19",
   "metadata": {},
   "outputs": [],
   "source": [
    "# Jeff's data Analysis"
   ]
  },
  {
   "cell_type": "code",
   "execution_count": null,
   "id": "afbe967e-63b4-4c29-a595-2e25721839e7",
   "metadata": {},
   "outputs": [],
   "source": []
  }
 ],
 "metadata": {
  "kernelspec": {
   "display_name": "Python 3 (ipykernel)",
   "language": "python",
   "name": "python3"
  },
  "language_info": {
   "codemirror_mode": {
    "name": "ipython",
    "version": 3
   },
   "file_extension": ".py",
   "mimetype": "text/x-python",
   "name": "python",
   "nbconvert_exporter": "python",
   "pygments_lexer": "ipython3",
   "version": "3.9.7"
  }
 },
 "nbformat": 4,
 "nbformat_minor": 5
}
