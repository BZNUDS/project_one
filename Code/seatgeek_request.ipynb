{
 "cells": [
  {
   "cell_type": "markdown",
   "id": "0c5f0ac7-d796-4e92-9253-5246d453fdea",
   "metadata": {},
   "source": [
    "# SeatGeek Data Request\n",
    "\n",
    "### Resources\n",
    "Platform site: https://platform.seatgeek.com  \n",
    "Additional Documentation: https://rapidapi.com/seatgeek/api/seatgeek  \n",
    "Additional Details: https://support.localist.com/seatgeek/  \n",
    "Issue Forums: https://github.com/seatgeek/api-support/issues\n",
    "\n",
    "### Goal\n",
    "Extract data from all music concerts in Chicago 2021"
   ]
  },
  {
   "cell_type": "code",
   "execution_count": 94,
   "id": "c64421d7-5618-43ae-ba2b-5fe0de6cb4f9",
   "metadata": {},
   "outputs": [],
   "source": [
    "# Import necessary modules\n",
    "import requests\n",
    "import pandas as pd\n",
    "from config import seatgeek_apikey, seatgeek_clientid"
   ]
  },
  {
   "cell_type": "code",
   "execution_count": 140,
   "id": "e688eb21-1b29-41dc-87c4-f82e8c41cb83",
   "metadata": {},
   "outputs": [
    {
     "data": {
      "text/plain": [
       "'https://api.seatgeek.com/2/events?client_id=MjU2MTQwMjd8MTY0NDA5ODIyNC43MTI3NzY3&venue.city=Chicago&datetime_utc.gte=2012-04-01&datetime_utc.lte=2012-04-30'"
      ]
     },
     "execution_count": 140,
     "metadata": {},
     "output_type": "execute_result"
    }
   ],
   "source": [
    "# Configure parameters\n",
    "query_type = 'events'\n",
    "city = 'Chicago'\n",
    "min_date = '2021-01-01'\n",
    "max_date = '2021-12-31'\n",
    "\n",
    "# 2021-01-30\n",
    "# Generate url\n",
    "base_url = 'https://api.seatgeek.com/2'\n",
    "query_url = f\"{base_url}/{query_type}?client_id={seatgeek_clientid}\"\\\n",
    "            f\"&venue.city={city}&datetime_utc.gte=2012-04-01&datetime_utc.lte=2012-04-30\"\n",
    "            # f\"&datetime_utc.lte={max_date}\"\n",
    "            # f\"&datetime_utc.gte={min_date}\"\n",
    "query_url"
   ]
  },
  {
   "cell_type": "code",
   "execution_count": 141,
   "id": "91d00c4d-0560-4081-873e-05ed23f41760",
   "metadata": {},
   "outputs": [
    {
     "name": "stdout",
     "output_type": "stream",
     "text": [
      "Response status code: 200\n"
     ]
    },
    {
     "data": {
      "text/plain": [
       "{'events': [],\n",
       " 'meta': {'total': 0,\n",
       "  'took': 3,\n",
       "  'page': 1,\n",
       "  'per_page': 10,\n",
       "  'geolocation': None}}"
      ]
     },
     "execution_count": 141,
     "metadata": {},
     "output_type": "execute_result"
    }
   ],
   "source": [
    "# Generate Response\n",
    "response = requests.get(query_url)\n",
    "print(f\"Response status code: {response.status_code}\")\n",
    "response.json()"
   ]
  },
  {
   "cell_type": "code",
   "execution_count": null,
   "id": "c1bf2b7c-0df9-4a11-b8a8-bbf5e043d25f",
   "metadata": {},
   "outputs": [],
   "source": []
  }
 ],
 "metadata": {
  "kernelspec": {
   "display_name": "Python 3 (ipykernel)",
   "language": "python",
   "name": "python3"
  },
  "language_info": {
   "codemirror_mode": {
    "name": "ipython",
    "version": 3
   },
   "file_extension": ".py",
   "mimetype": "text/x-python",
   "name": "python",
   "nbconvert_exporter": "python",
   "pygments_lexer": "ipython3",
   "version": "3.9.7"
  }
 },
 "nbformat": 4,
 "nbformat_minor": 5
}
