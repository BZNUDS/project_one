{
 "cells": [
  {
   "cell_type": "markdown",
   "id": "30873663-31ac-4b2f-b72e-156bd55f1ef2",
   "metadata": {},
   "source": [
    "# Correlation\n",
    "\n",
    "Find Pearson (maybe Spearman?) correlation between covid and library variabels"
   ]
  },
  {
   "cell_type": "code",
   "execution_count": null,
   "id": "d1a58509-5b93-4137-a2ed-3ec5168fd041",
   "metadata": {},
   "outputs": [],
   "source": [
    "# Import modules\n",
    "import pandas as pd\n",
    "import os\n",
    "import matplotlib.pyplot as plt\n",
    "\n",
    "# Load data\n",
    "library_path = \"../Data/merged_library_covid.csv\""
   ]
  }
 ],
 "metadata": {
  "kernelspec": {
   "display_name": "Python 3 (ipykernel)",
   "language": "python",
   "name": "python3"
  },
  "language_info": {
   "codemirror_mode": {
    "name": "ipython",
    "version": 3
   },
   "file_extension": ".py",
   "mimetype": "text/x-python",
   "name": "python",
   "nbconvert_exporter": "python",
   "pygments_lexer": "ipython3",
   "version": "3.9.7"
  }
 },
 "nbformat": 4,
 "nbformat_minor": 5
}
