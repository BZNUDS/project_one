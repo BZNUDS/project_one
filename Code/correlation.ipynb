{
 "cells": [
  {
   "cell_type": "markdown",
   "id": "30873663-31ac-4b2f-b72e-156bd55f1ef2",
   "metadata": {},
   "source": [
    "# Correlation\n",
    "\n",
    "Find Pearson (maybe Spearman?) correlation between covid and library variabels"
   ]
  },
  {
   "cell_type": "code",
   "execution_count": 227,
   "id": "d1a58509-5b93-4137-a2ed-3ec5168fd041",
   "metadata": {},
   "outputs": [
    {
     "data": {
      "text/html": [
       "<div>\n",
       "<style scoped>\n",
       "    .dataframe tbody tr th:only-of-type {\n",
       "        vertical-align: middle;\n",
       "    }\n",
       "\n",
       "    .dataframe tbody tr th {\n",
       "        vertical-align: top;\n",
       "    }\n",
       "\n",
       "    .dataframe thead th {\n",
       "        text-align: right;\n",
       "    }\n",
       "</style>\n",
       "<table border=\"1\" class=\"dataframe\">\n",
       "  <thead>\n",
       "    <tr style=\"text-align: right;\">\n",
       "      <th></th>\n",
       "      <th>ADDRESS</th>\n",
       "      <th>CITY</th>\n",
       "      <th>ZIP</th>\n",
       "      <th>JANUARY</th>\n",
       "      <th>FEBRUARY</th>\n",
       "      <th>MARCH</th>\n",
       "      <th>APRIL</th>\n",
       "      <th>MAY</th>\n",
       "      <th>JUNE</th>\n",
       "      <th>JULY</th>\n",
       "      <th>AUGUST</th>\n",
       "      <th>SEPTEMBER</th>\n",
       "      <th>OCTOBER</th>\n",
       "      <th>NOVEMBER</th>\n",
       "      <th>DECEMBER</th>\n",
       "      <th>YTD</th>\n",
       "      <th>TYPE</th>\n",
       "      <th>YEAR</th>\n",
       "      <th>LAT</th>\n",
       "      <th>LNG</th>\n",
       "    </tr>\n",
       "  </thead>\n",
       "  <tbody>\n",
       "    <tr>\n",
       "      <th>0</th>\n",
       "      <td>3401 W. Foster Ave.</td>\n",
       "      <td>Chicago</td>\n",
       "      <td>60625</td>\n",
       "      <td>8214.0</td>\n",
       "      <td>7614.0</td>\n",
       "      <td>8460.0</td>\n",
       "      <td>7414.0</td>\n",
       "      <td>7044.0</td>\n",
       "      <td>7970.0</td>\n",
       "      <td>9664.0</td>\n",
       "      <td>9069.0</td>\n",
       "      <td>7053.0</td>\n",
       "      <td>8012.0</td>\n",
       "      <td>6571.0</td>\n",
       "      <td>5924.0</td>\n",
       "      <td>93009.0</td>\n",
       "      <td>Circulation</td>\n",
       "      <td>2019</td>\n",
       "      <td>-87.701816</td>\n",
       "      <td>41.971155</td>\n",
       "    </tr>\n",
       "    <tr>\n",
       "      <th>1</th>\n",
       "      <td>13281 S. Corliss Ave.</td>\n",
       "      <td>Chicago</td>\n",
       "      <td>60827</td>\n",
       "      <td>378.0</td>\n",
       "      <td>326.0</td>\n",
       "      <td>332.0</td>\n",
       "      <td>270.0</td>\n",
       "      <td>320.0</td>\n",
       "      <td>325.0</td>\n",
       "      <td>354.0</td>\n",
       "      <td>229.0</td>\n",
       "      <td>234.0</td>\n",
       "      <td>377.0</td>\n",
       "      <td>369.0</td>\n",
       "      <td>500.0</td>\n",
       "      <td>4014.0</td>\n",
       "      <td>Circulation</td>\n",
       "      <td>2019</td>\n",
       "      <td>-87.633087</td>\n",
       "      <td>41.650765</td>\n",
       "    </tr>\n",
       "    <tr>\n",
       "      <th>2</th>\n",
       "      <td>5055 S. Archer Ave.</td>\n",
       "      <td>Chicago</td>\n",
       "      <td>60632</td>\n",
       "      <td>5365.0</td>\n",
       "      <td>5019.0</td>\n",
       "      <td>5417.0</td>\n",
       "      <td>5349.0</td>\n",
       "      <td>4833.0</td>\n",
       "      <td>4627.0</td>\n",
       "      <td>5356.0</td>\n",
       "      <td>4793.0</td>\n",
       "      <td>4537.0</td>\n",
       "      <td>5263.0</td>\n",
       "      <td>4051.0</td>\n",
       "      <td>3415.0</td>\n",
       "      <td>58025.0</td>\n",
       "      <td>Circulation</td>\n",
       "      <td>2019</td>\n",
       "      <td>-87.711251</td>\n",
       "      <td>41.810038</td>\n",
       "    </tr>\n",
       "    <tr>\n",
       "      <th>3</th>\n",
       "      <td>5615 W. Race Ave.</td>\n",
       "      <td>Chicago</td>\n",
       "      <td>60644</td>\n",
       "      <td>215.0</td>\n",
       "      <td>590.0</td>\n",
       "      <td>706.0</td>\n",
       "      <td>736.0</td>\n",
       "      <td>806.0</td>\n",
       "      <td>983.0</td>\n",
       "      <td>1134.0</td>\n",
       "      <td>1236.0</td>\n",
       "      <td>1193.0</td>\n",
       "      <td>1361.0</td>\n",
       "      <td>1286.0</td>\n",
       "      <td>1082.0</td>\n",
       "      <td>11328.0</td>\n",
       "      <td>Circulation</td>\n",
       "      <td>2019</td>\n",
       "      <td>-87.756863</td>\n",
       "      <td>41.881113</td>\n",
       "    </tr>\n",
       "    <tr>\n",
       "      <th>4</th>\n",
       "      <td>6100 W. Irving Park Rd.</td>\n",
       "      <td>Chicago</td>\n",
       "      <td>60634</td>\n",
       "      <td>9678.0</td>\n",
       "      <td>9764.0</td>\n",
       "      <td>10845.0</td>\n",
       "      <td>10541.0</td>\n",
       "      <td>9763.0</td>\n",
       "      <td>11442.0</td>\n",
       "      <td>11634.0</td>\n",
       "      <td>11063.0</td>\n",
       "      <td>9379.0</td>\n",
       "      <td>9932.0</td>\n",
       "      <td>8567.0</td>\n",
       "      <td>6492.0</td>\n",
       "      <td>119100.0</td>\n",
       "      <td>Circulation</td>\n",
       "      <td>2019</td>\n",
       "      <td>-87.797373</td>\n",
       "      <td>41.944967</td>\n",
       "    </tr>\n",
       "  </tbody>\n",
       "</table>\n",
       "</div>"
      ],
      "text/plain": [
       "                   ADDRESS     CITY    ZIP  JANUARY  FEBRUARY    MARCH  \\\n",
       "0      3401 W. Foster Ave.  Chicago  60625   8214.0    7614.0   8460.0   \n",
       "1    13281 S. Corliss Ave.  Chicago  60827    378.0     326.0    332.0   \n",
       "2      5055 S. Archer Ave.  Chicago  60632   5365.0    5019.0   5417.0   \n",
       "3        5615 W. Race Ave.  Chicago  60644    215.0     590.0    706.0   \n",
       "4  6100 W. Irving Park Rd.  Chicago  60634   9678.0    9764.0  10845.0   \n",
       "\n",
       "     APRIL     MAY     JUNE     JULY   AUGUST  SEPTEMBER  OCTOBER  NOVEMBER  \\\n",
       "0   7414.0  7044.0   7970.0   9664.0   9069.0     7053.0   8012.0    6571.0   \n",
       "1    270.0   320.0    325.0    354.0    229.0      234.0    377.0     369.0   \n",
       "2   5349.0  4833.0   4627.0   5356.0   4793.0     4537.0   5263.0    4051.0   \n",
       "3    736.0   806.0    983.0   1134.0   1236.0     1193.0   1361.0    1286.0   \n",
       "4  10541.0  9763.0  11442.0  11634.0  11063.0     9379.0   9932.0    8567.0   \n",
       "\n",
       "   DECEMBER       YTD         TYPE  YEAR        LAT        LNG  \n",
       "0    5924.0   93009.0  Circulation  2019 -87.701816  41.971155  \n",
       "1     500.0    4014.0  Circulation  2019 -87.633087  41.650765  \n",
       "2    3415.0   58025.0  Circulation  2019 -87.711251  41.810038  \n",
       "3    1082.0   11328.0  Circulation  2019 -87.756863  41.881113  \n",
       "4    6492.0  119100.0  Circulation  2019 -87.797373  41.944967  "
      ]
     },
     "execution_count": 227,
     "metadata": {},
     "output_type": "execute_result"
    }
   ],
   "source": [
    "# Import modules\n",
    "import pandas as pd\n",
    "import matplotlib.pyplot as plt\n",
    "import matplotlib.cm as cm\n",
    "import scipy.stats as st\n",
    "import numpy as np\n",
    "import os\n",
    "\n",
    "# Load data\n",
    "library_path = \"../Data/merged_library_covid_outer.csv\"\n",
    "df = pd.read_csv(library_path)\n",
    "df = df.drop(['Unnamed: 0'], axis = 1)\n",
    "df.head()"
   ]
  },
  {
   "cell_type": "markdown",
   "id": "cd188ba2-7624-4249-80fe-eb0f0c804993",
   "metadata": {},
   "source": [
    "# Cases and Circulation"
   ]
  },
  {
   "cell_type": "markdown",
   "id": "ed25b62c-94e7-418f-a443-559ff91ba7e9",
   "metadata": {
    "tags": []
   },
   "source": [
    "### Isolate covid cases data and circulation data with corresponding years and zip codes"
   ]
  },
  {
   "cell_type": "code",
   "execution_count": 228,
   "id": "7d85fbb5-94f0-4945-860c-5baa32b9ac70",
   "metadata": {
    "tags": []
   },
   "outputs": [],
   "source": [
    "# Isolate circulation and cases data\n",
    "circulation = df[df['TYPE'] == 'Circulation']\n",
    "cases = df[df['TYPE'] == 'Cases']\n",
    "\n",
    "# Subset for shared ZIPs\n",
    "shared_zips =  list(set(circulation['ZIP']) & set(cases['ZIP']))\n",
    "circulation = circulation[circulation['ZIP'].isin(shared_zips)]\n",
    "cases = cases[cases['ZIP'].isin(shared_zips)]\n",
    "\n",
    "\n",
    "# Subset for shared years\n",
    "shared_years =  list(set(circulation['YEAR']) & set(cases['YEAR']))\n",
    "circulation = circulation[circulation['YEAR'].isin(shared_years)]\n",
    "cases = cases[cases['YEAR'].isin(shared_years)]\n",
    "\n",
    "# Sort by year\n",
    "cases = cases.sort_values(by = ['YEAR', 'ZIP'], axis = 0)\n",
    "circulation = circulation.sort_values(by = ['YEAR', 'ZIP'], axis = 0)\n",
    "\n",
    "# Average circulation data for each year and zip code combination\n",
    "circulation_grouped = circulation.groupby(['YEAR', 'ZIP'])\n",
    "circulation_avg = circulation_grouped[['JANUARY', 'FEBRUARY', 'MARCH', 'APRIL', 'MAY', 'JUNE', 'JULY',\n",
    "                                       'AUGUST', 'SEPTEMBER', 'OCTOBER', 'NOVEMBER', 'DECEMBER']].mean()\n",
    "circulation_avg = pd.DataFrame(circulation_avg)"
   ]
  },
  {
   "cell_type": "markdown",
   "id": "ddf8e1cc-0d64-4e52-b237-73708991ba05",
   "metadata": {},
   "source": [
    "### Generate scatter plot"
   ]
  },
  {
   "cell_type": "code",
   "execution_count": 229,
   "id": "68415a6e-fb72-46f6-89ea-dea9a739b574",
   "metadata": {},
   "outputs": [
    {
     "data": {
      "image/png": "[encoded data removed]",
      "text/plain": [
       "<Figure size 600x600 with 1 Axes>"
      ]
     },
     "metadata": {
      "needs_background": "light"
     },
     "output_type": "display_data"
    }
   ],
   "source": [
    "# Isolate monthly data of interest\n",
    "monthly_cases = cases.loc[:,\"JANUARY\":\"DECEMBER\"]\n",
    "monthly_circulation = circulation_avg\n",
    "\n",
    "# Define color vector for each ZIP code\n",
    "colors = cm.rainbow(np.linspace(0, 1, len(shared_zips)))\n",
    "colors_hex = [matplotlib.colors.rgb2hex(color) for color in colors]\n",
    "colors_rep = np.repeat(colors_hex, 24)\n",
    "\n",
    "# Generate plot\n",
    "fig, ax = plt.subplots()\n",
    "plt.rcParams.update({'figure.figsize':(2,2), 'figure.dpi':300, 'font.size':5})\n",
    "plt.scatter(monthly_circulation, monthly_cases, s = 5, c = colors_rep)\n",
    "ax.set_title('Cases vs Circulation')\n",
    "ax.set_xlabel('Circulation')\n",
    "ax.set_ylabel('Cases')\n",
    "plt.show()"
   ]
  },
  {
   "cell_type": "code",
   "execution_count": 230,
   "id": "17cb6a35-3b56-46ad-b758-02cb1af5b8ed",
   "metadata": {},
   "outputs": [
    {
     "data": {
      "text/plain": [
       "<Figure size 600x600 with 0 Axes>"
      ]
     },
     "metadata": {},
     "output_type": "display_data"
    }
   ],
   "source": [
    "# Export plot\n",
    "plt.savefig('../Figures/cases_vs_circulation_scatter.png')"
   ]
  },
  {
   "cell_type": "markdown",
   "id": "dd51ddc4-6c1e-4ad1-ac8b-6e7c138fc100",
   "metadata": {},
   "source": [
    "### Calculate correlation"
   ]
  },
  {
   "cell_type": "code",
   "execution_count": 231,
   "id": "45ab35f7-bd46-44db-a471-b5897c1d4095",
   "metadata": {},
   "outputs": [
    {
     "data": {
      "text/plain": [
       "-0.039"
      ]
     },
     "execution_count": 231,
     "metadata": {},
     "output_type": "execute_result"
    }
   ],
   "source": [
    "# Convert to numpy array and remove NaNs\n",
    "circulation_array = np.array(monthly_circulation)\n",
    "cases_array = np.array(monthly_cases)\n",
    "circulation_clean = circulation_array[~np.isnan(cases_array)]\n",
    "cases_clean = cases_array[~np.isnan(cases_array)]\n",
    "\n",
    "# Calculate correlation coefficient\n",
    "pearson_r = round(st.pearsonr(circulation_clean, cases_clean)[0], 3)\n",
    "pearson_r"
   ]
  },
  {
   "cell_type": "markdown",
   "id": "5509b884-2089-40cf-90d8-a55e7ddff873",
   "metadata": {},
   "source": [
    "# Deaths and Visitors"
   ]
  },
  {
   "cell_type": "markdown",
   "id": "0f50cbb7-b4da-4528-91b4-5d82166c6ca5",
   "metadata": {
    "tags": []
   },
   "source": [
    "### Isolate covid deaths data and visitors data with corresponding years and zip codes"
   ]
  },
  {
   "cell_type": "code",
   "execution_count": 234,
   "id": "0593d6af-f80b-4c1e-91d0-6554310af865",
   "metadata": {},
   "outputs": [],
   "source": [
    "# Isolate circulation and cases data\n",
    "visitors = df[df['TYPE'] == 'Visitors']\n",
    "deaths = df[df['TYPE'] == 'Deaths']\n",
    "\n",
    "# Subset for shared ZIPs\n",
    "shared_zips =  list(set(visitors['ZIP']) & set(deaths['ZIP']))\n",
    "visitors = visitors[visitors['ZIP'].isin(shared_zips)]\n",
    "deaths = deaths[deaths['ZIP'].isin(shared_zips)]\n",
    "\n",
    "# Subset for shared years\n",
    "shared_years =  list(set(visitors['YEAR']) & set(deaths['YEAR']))\n",
    "visitors = visitors[visitors['YEAR'].isin(shared_years)]\n",
    "deaths = deaths[deaths['YEAR'].isin(shared_years)]\n",
    "\n",
    "# Sort by year\n",
    "deaths = deaths.sort_values(by = ['YEAR', 'ZIP'], axis = 0)\n",
    "visitors = visitors.sort_values(by = ['YEAR', 'ZIP'], axis = 0)\n",
    "\n",
    "# Average circulation data for each year and zip code combination\n",
    "visitors_grouped = visitors.groupby(['YEAR', 'ZIP'])\n",
    "visitors_avg = visitors_grouped[['JANUARY', 'FEBRUARY', 'MARCH', 'APRIL', 'MAY', 'JUNE', 'JULY',\n",
    "                                       'AUGUST', 'SEPTEMBER', 'OCTOBER', 'NOVEMBER', 'DECEMBER']].mean()\n",
    "visitors_avg = pd.DataFrame(visitors_avg)"
   ]
  },
  {
   "cell_type": "markdown",
   "id": "3901e025-5ccc-4a3c-a57c-105ccc5b4f0c",
   "metadata": {},
   "source": [
    "### Generate scatter plot"
   ]
  },
  {
   "cell_type": "code",
   "execution_count": null,
   "id": "cf76c8bd-cf1e-4b77-a844-92d2529612d2",
   "metadata": {},
   "outputs": [],
   "source": []
  }
 ],
 "metadata": {
  "kernelspec": {
   "display_name": "Python 3 (ipykernel)",
   "language": "python",
   "name": "python3"
  },
  "language_info": {
   "codemirror_mode": {
    "name": "ipython",
    "version": 3
   },
   "file_extension": ".py",
   "mimetype": "text/x-python",
   "name": "python",
   "nbconvert_exporter": "python",
   "pygments_lexer": "ipython3",
   "version": "3.9.7"
  }
 },
 "nbformat": 4,
 "nbformat_minor": 5
}
